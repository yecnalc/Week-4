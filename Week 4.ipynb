{
 "cells": [
  {
   "cell_type": "markdown",
   "id": "7207045e",
   "metadata": {},
   "source": [
    "# Week 4 Work\n",
    "\n",
    "Algorithm Workbench\n",
    "Question 1 & 2"
   ]
  },
  {
   "cell_type": "markdown",
   "id": "ea52b33e",
   "metadata": {},
   "source": [
    "Question 1"
   ]
  },
  {
   "cell_type": "code",
   "execution_count": null,
   "id": "afc76c4c",
   "metadata": {},
   "outputs": [],
   "source": [
    "product=1\n",
    "while product>100:\n",
    "    packages=int(input('Enter number of packages: '))\n",
    "    product=packages*10\n",
    "    print(\"Total in stock:',product)"
   ]
  },
  {
   "cell_type": "markdown",
   "id": "3f691764",
   "metadata": {},
   "source": [
    "I am struggling with this code I wrote because I believe I am doing everything right, but I cannot get it to run."
   ]
  },
  {
   "cell_type": "code",
   "execution_count": null,
   "id": "f4e74f66",
   "metadata": {},
   "outputs": [],
   "source": [
    "product = 1\n",
    "while product < 100:\n",
    "    packages = int(input('Enter number of packages: '))\n",
    "product = packages * 10\n",
    "print('Total in stock:','product')"
   ]
  },
  {
   "cell_type": "markdown",
   "id": "fc77e620",
   "metadata": {},
   "source": [
    "I fixed small errors, yet I cannot successfully run the program. I looked up what this could mean, and it could be a bug with my jupyter program. Pressing \"Shift\" & \"Enter\", but a new line is created instead of code being ran. I can run markdowns just fine, but even just a simple print command is not running."
   ]
  },
  {
   "cell_type": "markdown",
   "id": "790a6858",
   "metadata": {},
   "source": [
    "Question 2"
   ]
  },
  {
   "cell_type": "code",
   "execution_count": null,
   "id": "1cd59dd9",
   "metadata": {},
   "outputs": [],
   "source": [
    "calories=0\n",
    "another='y'\n",
    "print('Find the total calories consumed for breakfast and dinner.')\n",
    "while another='y'\n",
    "breakfast=int(input(Enter total calories consumed for breakfast: '))\n",
    "dinner=int(input(Enter total calories consumer for breakfast:' ))\n",
    "calories= breakfast + dinner\n",
    "print(\"For both meals, the total calories consumed:',calories)\n",
    "another=input('Calculate another set of calroies? Enter y for yes):')\n",
    "print()\n",
    "      "
   ]
  },
  {
   "cell_type": "markdown",
   "id": "e31bd7af",
   "metadata": {},
   "source": [
    "I will leave my code as is, but I will have to figure out why any code I write is not running."
   ]
  },
  {
   "cell_type": "markdown",
   "id": "8ec73089",
   "metadata": {},
   "source": [
    "# Programming Exercises\n",
    "\n",
    "Question 1,4,12,14"
   ]
  },
  {
   "cell_type": "markdown",
   "id": "e2002abd",
   "metadata": {},
   "source": [
    "Question 1"
   ]
  },
  {
   "cell_type": "code",
   "execution_count": null,
   "id": "85fc26e7",
   "metadata": {},
   "outputs": [],
   "source": [
    "DaysTotal=5\n",
    "\n",
    "BugsTotal=0\n",
    "\n",
    "for DayCurrent in range( 1, DaysTotal +1 ):\n",
    "\n",
    "CollectedBugs= int(input('Enter Bugs For ' +str(DayCurrent) + \": \"))\n",
    "\n",
    "BugsTotal=BugsTotal+CollectedBugs\n",
    "\n",
    "print('Bugs Collected In' ,DaysTotal ,' Days is' ,BugsTotal) "
   ]
  },
  {
   "cell_type": "markdown",
   "id": "782acacf",
   "metadata": {},
   "source": [
    "Question 4"
   ]
  },
  {
   "cell_type": "markdown",
   "id": "6513269b",
   "metadata": {},
   "source": [
    "For this question I had to look online for extra assistence, so I believe this is correct."
   ]
  },
  {
   "cell_type": "code",
   "execution_count": null,
   "id": "0de2c4df",
   "metadata": {},
   "outputs": [],
   "source": [
    "print('This list displays a number of hours')\n",
    "print(' and the distance traveled per hour.'\n",
    "end = int(input(' Enter the starting hour: ')\n",
    "                                    \n",
    "\n",
    "#Print the table headings\n",
    "print('Hour\\tDistance')\n",
    "print('----------')\n",
    "\n",
    "# Print the hours and their squares.\n",
    "for hour in range (1, end +1):\n",
    "        distance = hour*40\n",
    "        print(hour, '\\t', distance)"
   ]
  },
  {
   "cell_type": "markdown",
   "id": "a49f4931",
   "metadata": {},
   "source": [
    "Question 12"
   ]
  },
  {
   "cell_type": "code",
   "execution_count": null,
   "id": "31cddfa8",
   "metadata": {},
   "outputs": [],
   "source": [
    "s = int(input(\"Starting number of organisms: \"))\n",
    "i = float(input(\"Average daily increase: \"))\n",
    "d = int(input(\"Number of days to multiply: \"))\n",
    "print(\"Day Approximate\\tPopulation\")\n",
    "for d in range(s, d + 1):\n",
    "    add = s * i\n",
    "    s = s + add\n",
    "    print(d - 1, '\\t', s)"
   ]
  },
  {
   "cell_type": "markdown",
   "id": "b0076aa3",
   "metadata": {},
   "source": [
    "I am unsure if I am forgetting a part of the code."
   ]
  },
  {
   "cell_type": "markdown",
   "id": "c49233b5",
   "metadata": {},
   "source": [
    "Question 14"
   ]
  },
  {
   "cell_type": "code",
   "execution_count": null,
   "id": "a00820c2",
   "metadata": {},
   "outputs": [],
   "source": [
    "x = [\"*\", \"*\", \"*\", \"*\"]\n",
    "print(x)\n",
    "for i in x[:]:\n",
    "    if i == \"*\":\n",
    "        x.remove(i)\n",
    "    print(x)"
   ]
  },
  {
   "cell_type": "markdown",
   "id": "cd1d9bd0",
   "metadata": {},
   "source": [
    "Overall, I had a difficult time with running each program and being sure that the code I was writing was correct. I tried my best, and I am eager to see what my classmates have done differntly."
   ]
  },
  {
   "cell_type": "code",
   "execution_count": null,
   "id": "50b3cd9b",
   "metadata": {},
   "outputs": [],
   "source": []
  }
 ],
 "metadata": {
  "kernelspec": {
   "display_name": "Python 3 (ipykernel)",
   "language": "python",
   "name": "python3"
  },
  "language_info": {
   "codemirror_mode": {
    "name": "ipython",
    "version": 3
   },
   "file_extension": ".py",
   "mimetype": "text/x-python",
   "name": "python",
   "nbconvert_exporter": "python",
   "pygments_lexer": "ipython3",
   "version": "3.11.5"
  }
 },
 "nbformat": 4,
 "nbformat_minor": 5
}
